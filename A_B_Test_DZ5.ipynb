{
 "cells": [
  {
   "cell_type": "markdown",
   "metadata": {},
   "source": [
    "**Урок 5. Применение математической статистики для проверки гипотез в реальной жизни для популярных метрик**"
   ]
  },
  {
   "cell_type": "markdown",
   "metadata": {},
   "source": [
    "1."
   ]
  },
  {
   "cell_type": "markdown",
   "metadata": {},
   "source": [
    "Для оценки статистической значимости различий между конверсиями в двух группах при α=5% можно использовать Z-критерий для разности долей. Формула Z-критерия:\n",
    "Z = (p1 - p2) / sqrt(p * (1 - p) * (1/N1 + 1/N2))\n",
    "где p = (n1 * p1 + n2 * p2) / (n1 + n2)\n"
   ]
  },
  {
   "cell_type": "code",
   "execution_count": 3,
   "metadata": {},
   "outputs": [
    {
     "data": {
      "text/plain": [
       "-3.2110930329358367"
      ]
     },
     "execution_count": 3,
     "metadata": {},
     "output_type": "execute_result"
    }
   ],
   "source": [
    "from math import sqrt\n",
    "\n",
    "p1 = 164 / 15550\n",
    "p2 = 228 / 15550\n",
    "n1 = 164\n",
    "n2 = 228\n",
    "N1 = 15550\n",
    "N2 = N1\n",
    "p =  (n1 * p1 + n2 * p2) / (n1 + n2)\n",
    "Z = (p1 - p2) / sqrt(p * (1 - p) * (1/N1 + 1/N2))"
   ]
  },
  {
   "cell_type": "markdown",
   "metadata": {},
   "source": [
    "*Ответ:*"
   ]
  },
  {
   "cell_type": "markdown",
   "metadata": {},
   "source": [
    "Критическое значение Z-критерия при α=5% и двухсторонней альтернативе равно 1.96. Так как расчетное значение Z меньше критического значения, т.е. -3.2110930329358367 < 1.96 , то мы отвергаем нулевую гипотезу о равенстве конверсий в группах. То есть, изменения внесенные в заказную форму в магазине Утконос дали статистически значимый эффект на уровень конверсии в покупку. Рекомендуется использовать новую форму заказа."
   ]
  },
  {
   "cell_type": "markdown",
   "metadata": {},
   "source": [
    "2.Посчитайте контрольное число: среднее из 4 чисел (выборочную дисперсию, \n",
    "выборочное среднее, стандартное отклонение и медиану) для выборки (первые 10 натуральных разных чисел). \n"
   ]
  },
  {
   "cell_type": "code",
   "execution_count": 1,
   "metadata": {},
   "outputs": [],
   "source": [
    "import statistics\n"
   ]
  },
  {
   "cell_type": "code",
   "execution_count": 2,
   "metadata": {},
   "outputs": [],
   "source": [
    "data = [3, 7, 1, 4]\n"
   ]
  },
  {
   "cell_type": "markdown",
   "metadata": {},
   "source": [
    "### выборочную дисперсию:"
   ]
  },
  {
   "cell_type": "code",
   "execution_count": 3,
   "metadata": {},
   "outputs": [
    {
     "data": {
      "text/plain": [
       "6.25"
      ]
     },
     "execution_count": 3,
     "metadata": {},
     "output_type": "execute_result"
    }
   ],
   "source": [
    "statistics.variance(data)"
   ]
  },
  {
   "cell_type": "markdown",
   "metadata": {},
   "source": [
    "### выборочное среднее:"
   ]
  },
  {
   "cell_type": "code",
   "execution_count": 5,
   "metadata": {},
   "outputs": [
    {
     "data": {
      "text/plain": [
       "3.75"
      ]
     },
     "execution_count": 5,
     "metadata": {},
     "output_type": "execute_result"
    }
   ],
   "source": [
    "statistics.mean(data)"
   ]
  },
  {
   "cell_type": "markdown",
   "metadata": {},
   "source": [
    "### стандартное отклонение:"
   ]
  },
  {
   "cell_type": "code",
   "execution_count": 6,
   "metadata": {},
   "outputs": [
    {
     "data": {
      "text/plain": [
       "2.165063509461097"
      ]
     },
     "execution_count": 6,
     "metadata": {},
     "output_type": "execute_result"
    }
   ],
   "source": [
    "statistics.pstdev(data)"
   ]
  },
  {
   "cell_type": "markdown",
   "metadata": {},
   "source": [
    "### медиана:"
   ]
  },
  {
   "cell_type": "code",
   "execution_count": 7,
   "metadata": {},
   "outputs": [
    {
     "data": {
      "text/plain": [
       "3.5"
      ]
     },
     "execution_count": 7,
     "metadata": {},
     "output_type": "execute_result"
    }
   ],
   "source": [
    "statistics.median(data)"
   ]
  }
 ],
 "metadata": {
  "kernelspec": {
   "display_name": "Python 3",
   "language": "python",
   "name": "python3"
  },
  "language_info": {
   "codemirror_mode": {
    "name": "ipython",
    "version": 3
   },
   "file_extension": ".py",
   "mimetype": "text/x-python",
   "name": "python",
   "nbconvert_exporter": "python",
   "pygments_lexer": "ipython3",
   "version": "3.6.13"
  },
  "vscode": {
   "interpreter": {
    "hash": "140e35fed1e6b1fda5df35b9aa352d01ce403d3208ecd56a82c7b02212e6fb32"
   }
  }
 },
 "nbformat": 4,
 "nbformat_minor": 2
}
